{
  "nbformat": 4,
  "nbformat_minor": 0,
  "metadata": {
    "colab": {
      "provenance": [],
      "include_colab_link": true
    },
    "kernelspec": {
      "name": "python3",
      "display_name": "Python 3"
    },
    "language_info": {
      "name": "python"
    }
  },
  "cells": [
    {
      "cell_type": "markdown",
      "metadata": {
        "id": "view-in-github",
        "colab_type": "text"
      },
      "source": [
        "<a href=\"https://colab.research.google.com/github/SurajUppal21/Suraj-Uppal_SrishtiAssignments/blob/main/SRISHTI'23_Tutorial_06.ipynb\" target=\"_parent\"><img src=\"https://colab.research.google.com/assets/colab-badge.svg\" alt=\"Open In Colab\"/></a>"
      ]
    },
    {
      "cell_type": "markdown",
      "source": [
        "# **SRISHTI'23 - Tutorial 06**\n",
        "# Linear Classifiers and Perceptron Algorithm\n",
        "### Lab Coordinator: Shantanu Agrawal\n",
        "\n",
        "In this lab, we will be studying the use of linear classifiers, followed by using perceptron learning algorithm."
      ],
      "metadata": {
        "id": "M3xEYaFTrNN8"
      }
    },
    {
      "cell_type": "markdown",
      "source": [
        "**Linear classifiers** can be understood as form of **classifiers** (which will classify things into two different output categories) and we are doing this by **involving a linear equation**.\n",
        "\n",
        "## Let's understood how line can classify datapoints using an example:<br>\n",
        "Given a line as G(X), where X are values of different features given in (d+1)-dimensioanl vector form:<br>\n",
        "$G(X) = w^TX = 6x_1 + 3x_2 - 12$<br>\n",
        "(Here, d=2 and w = [6,3,-12], we are assuming the augmented version of w or coefficient vector)"
      ],
      "metadata": {
        "id": "3eFuN0PaQUQ4"
      }
    },
    {
      "cell_type": "markdown",
      "metadata": {
        "id": "tT5y5bqvEAKn"
      },
      "source": [
        "Let's make a toy dataset."
      ]
    },
    {
      "cell_type": "code",
      "metadata": {
        "id": "CGK5WP6WDZrz",
        "colab": {
          "base_uri": "https://localhost:8080/"
        },
        "outputId": "15c6401b-c248-4b6a-99a0-33bad76739b1"
      },
      "source": [
        "import numpy as np\n",
        "import matplotlib.pyplot as plt\n",
        "\n",
        "points = np.array([[1,2,1]])\n",
        "\n",
        "import random\n",
        "for i in range(10):\n",
        "  x_1 = random.randint(0,3)\n",
        "  x_2 = random.randint(0,5)\n",
        "  X = np.asarray([[x_1, x_2, 1]]) # adding bias term at the end for augmented version of X as well\n",
        "  points = np.append(points, X, axis=0)\n",
        "\n",
        "print(points)"
      ],
      "execution_count": 24,
      "outputs": [
        {
          "output_type": "stream",
          "name": "stdout",
          "text": [
            "[[1 2 1]\n",
            " [1 3 1]\n",
            " [0 5 1]\n",
            " [1 3 1]\n",
            " [2 1 1]\n",
            " [3 0 1]\n",
            " [0 5 1]\n",
            " [2 4 1]\n",
            " [3 4 1]\n",
            " [3 0 1]\n",
            " [0 4 1]]\n"
          ]
        }
      ]
    },
    {
      "cell_type": "code",
      "source": [
        "# We have w or coefficients vector as\n",
        "w = np.asarray([6,3,-12])"
      ],
      "metadata": {
        "id": "Z2gdCGKOX0bY"
      },
      "execution_count": 25,
      "outputs": []
    },
    {
      "cell_type": "code",
      "source": [
        "# Now let's do the linear classification\n",
        "# we do it by checking the value of G(X)\n",
        "\n",
        "def linClassification(w, points):\n",
        "  for point in points:\n",
        "    gx = 0\n",
        "    for i in range(len(w)):\n",
        "      gx+=w[i]*point[i]\n",
        "    if gx < 0:\n",
        "      plt.scatter(point[0], point[1], s=120, marker='_', linewidths=2)\n",
        "    elif gx > 0:\n",
        "      plt.scatter(point[0], point[1], s=120, marker='+', linewidths=2)\n",
        "    else:\n",
        "      plt.scatter(point[0], point[1], s=120, marker='o', linewidths=2)\n",
        "\n",
        "def linClassification_VectorialForm(w, points):\n",
        "  for point in points:\n",
        "    gx = np.sum(w*point)\n",
        "    if gx < 0:\n",
        "      plt.scatter(point[0], point[1], s=120, marker='_', linewidths=2)\n",
        "    elif gx > 0:\n",
        "      plt.scatter(point[0], point[1], s=120, marker='+', linewidths=2)\n",
        "    else:\n",
        "      plt.scatter(point[0], point[1], s=120, marker='o', linewidths=2)"
      ],
      "metadata": {
        "id": "KP6bKNJHSG4R"
      },
      "execution_count": 26,
      "outputs": []
    },
    {
      "cell_type": "code",
      "source": [
        "# Lets first plot the line using axis intercepts\n",
        "plt.plot([2,0], [0,4])\n",
        "\n",
        "linClassification(w, points)\n",
        "plt.show()"
      ],
      "metadata": {
        "colab": {
          "base_uri": "https://localhost:8080/",
          "height": 430
        },
        "id": "wsa73BYMZEGR",
        "outputId": "a609f990-a30c-48b8-e1fb-0f58882b91e5"
      },
      "execution_count": 27,
      "outputs": [
        {
          "output_type": "display_data",
          "data": {
            "text/plain": [
              "<Figure size 640x480 with 1 Axes>"
            ],
            "image/png": "[encoded data removed]"
          },
          "metadata": {}
        }
      ]
    },
    {
      "cell_type": "code",
      "source": [
        "# Now let's check what happens if we do it vector from\n",
        "\n",
        "# First plot the line using axis intercepts\n",
        "plt.plot([2,0], [0,4])\n",
        "\n",
        "linClassification_VectorialForm(w, points)\n",
        "plt.show()"
      ],
      "metadata": {
        "colab": {
          "base_uri": "https://localhost:8080/",
          "height": 430
        },
        "id": "vLwtqFLMbNjM",
        "outputId": "f8dfe48b-fc40-465f-caf8-539dc973a66e"
      },
      "execution_count": 28,
      "outputs": [
        {
          "output_type": "display_data",
          "data": {
            "text/plain": [
              "<Figure size 640x480 with 1 Axes>"
            ],
            "image/png": "[encoded data removed]"
          },
          "metadata": {}
        }
      ]
    },
    {
      "cell_type": "markdown",
      "metadata": {
        "id": "lWlVB486EY8e"
      },
      "source": [
        "So, we can see that how line can classify the data points. And we understand how it is done. But how do we get to know the correct line which would stand as our answer for the dataset.\n",
        "\n",
        "So, to get the required line, we will try to understand various Linear Classifiers.\n",
        "\n",
        "### First we have Perceptron Update algorithm to find the required line\n",
        "\n",
        "We can now code our Perceptron algorithm using our update rule. To keep it simple, we will linearly loop over the sample set.\n",
        "\n",
        "![image.png](data:image/png;base64,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)\n",
        "\n",
        "By checking **$y.a <= 0$**, misclassifed data-points have been checked and update is being done accordingly.\n",
        "\n",
        "For larger data sets it makes sense, to randomly pick a sample during each iteration in the for-loop(s) (i.e, **Batch Perceptron Update**).\n",
        "\n",
        "The below mentioned algorithm is shown in the above image."
      ]
    },
    {
      "cell_type": "code",
      "source": [
        "# Creating the labeled dataset for the example simulation of above shown algorithm\n",
        "X = np.array([\n",
        "    [-2, 4, -1],\n",
        "    [4, 1, -1],\n",
        "    [1, 6, -1],\n",
        "    [2, 4, -1],\n",
        "    [6, 2, -1],\n",
        "])\n",
        "\n",
        "y = np.array([-1, -1, 1, 1, 1])\n"
      ],
      "metadata": {
        "id": "pravl_Z_e2bW"
      },
      "execution_count": 29,
      "outputs": []
    },
    {
      "cell_type": "code",
      "metadata": {
        "id": "ltJYDYNIDjLl"
      },
      "source": [
        "def perceptron_algo(X, Y):\n",
        "    # random line is being called to start the algorithm\n",
        "    w = np.zeros(len(X[0]))\n",
        "    eta = 1\n",
        "    epochs = 10\n",
        "\n",
        "    for epoch in range(epochs):\n",
        "        for i, x in enumerate(X):\n",
        "            if (np.dot(X[i], w) * Y[i]) <= 0:\n",
        "                w = w + eta * X[i] * Y[i]\n",
        "    return w"
      ],
      "execution_count": 30,
      "outputs": []
    },
    {
      "cell_type": "code",
      "metadata": {
        "id": "wV0oQoHEDl9e"
      },
      "source": [
        "# Let's analyse the algorithm against number of iterations needed\n",
        "def perceptron_algo_plot(X, Y):\n",
        "    '''\n",
        "    train perceptron and plot the total loss in each epoch.\n",
        "\n",
        "    :param X: data samples\n",
        "    :param Y: data labels\n",
        "    :return: weight vector as a numpy array\n",
        "    '''\n",
        "    w = np.zeros(len(X[0]))\n",
        "    eta = 1\n",
        "    n = 30\n",
        "    errors = []\n",
        "    misclassified_points = []\n",
        "    avg_error = []\n",
        "\n",
        "    for t in range(n):\n",
        "        total_error = 0\n",
        "        number = 0\n",
        "        for i, x in enumerate(X):\n",
        "            if (np.dot(X[i], w) * Y[i]) <= 0:\n",
        "                number += 1\n",
        "                total_error += (np.dot(X[i], w) * Y[i])\n",
        "                w = w + eta * X[i] * Y[i]\n",
        "        errors.append(total_error * -1)\n",
        "        misclassified_points.append(number)\n",
        "        if number==0:\n",
        "          avg_error.append(number)\n",
        "        else:\n",
        "          avg_error.append((total_error * -1)/number)\n",
        "\n",
        "    plt.plot(misclassified_points, label ='Number of misclassified points')\n",
        "    plt.plot(errors, label ='Error caused by misclassified points')\n",
        "    plt.xlabel('Epoch')\n",
        "    plt.ylabel('Total Loss')\n",
        "    plt.title('Analysis')\n",
        "    plt.legend()\n",
        "    plt.show()\n",
        "\n",
        "    plt.plot(misclassified_points, label ='Number of misclassified points')\n",
        "    plt.plot(avg_error, label ='Average Error caused by misclassified points')\n",
        "    plt.xlabel('Epoch')\n",
        "    plt.ylabel('Total Loss')\n",
        "    plt.title('Analysis')\n",
        "    plt.legend()\n",
        "    plt.show()\n",
        "\n",
        "    return w"
      ],
      "execution_count": 31,
      "outputs": []
    },
    {
      "cell_type": "markdown",
      "source": [
        "Next, we will see the the training error at each epoch."
      ],
      "metadata": {
        "id": "oVRULAv4ry36"
      }
    },
    {
      "cell_type": "code",
      "metadata": {
        "colab": {
          "base_uri": "https://localhost:8080/",
          "height": 927
        },
        "id": "EdhdZH5eDtBE",
        "outputId": "3b89e7fe-a789-412f-a7a2-d8207e00f407"
      },
      "source": [
        "w = perceptron_algo_plot(X, y)"
      ],
      "execution_count": 32,
      "outputs": [
        {
          "output_type": "display_data",
          "data": {
            "text/plain": [
              "<Figure size 640x480 with 1 Axes>"
            ],
            "image/png": "[encoded data removed]"
          },
          "metadata": {}
        },
        {
          "output_type": "display_data",
          "data": {
            "text/plain": [
              "<Figure size 640x480 with 1 Axes>"
            ],
            "image/png": "[encoded data removed]"
          },
          "metadata": {}
        }
      ]
    },
    {
      "cell_type": "markdown",
      "source": [
        "We now plot the decision boundary and check which samples have been classified as positive and which samples have been classified as negative."
      ],
      "metadata": {
        "id": "833EECrlsHtT"
      }
    },
    {
      "cell_type": "code",
      "metadata": {
        "colab": {
          "base_uri": "https://localhost:8080/",
          "height": 447
        },
        "id": "Rwn0luhQDwWt",
        "outputId": "be76ee09-bb53-45bc-cdd7-16d066500839"
      },
      "source": [
        "for d, sample in enumerate(X):\n",
        "    # Plot the negative samples\n",
        "    if d < 2:\n",
        "        plt.scatter(sample[0], sample[1], s=120, marker='_', linewidths=2)\n",
        "    # Plot the positive samples\n",
        "    else:\n",
        "        plt.scatter(sample[0], sample[1], s=120, marker='+', linewidths=2)\n",
        "\n",
        "# Add our test samples\n",
        "\n",
        "plt.scatter(2, 2, s=120, marker='_', linewidths=2, color='yellow')\n",
        "plt.scatter(4, 3, s=120, marker='+', linewidths=2, color='blue')\n",
        "\n",
        "# Print the hyperplane calculated by perceptron_sgd()\n",
        "x2 = [w[0], w[1], -w[1], w[0]]\n",
        "x3 = [w[0], w[1], w[1], -w[0]]\n",
        "\n",
        "x2x3 = np.array([x2, x3])\n",
        "X, Y, U, V = zip(*x2x3)\n",
        "ax = plt.gca()\n",
        "ax.quiver(X, Y, U, V, scale=1, color='blue')"
      ],
      "execution_count": 33,
      "outputs": [
        {
          "output_type": "execute_result",
          "data": {
            "text/plain": [
              "<matplotlib.quiver.Quiver at 0x7f8fa1178d00>"
            ]
          },
          "metadata": {},
          "execution_count": 33
        },
        {
          "output_type": "display_data",
          "data": {
            "text/plain": [
              "<Figure size 640x480 with 1 Axes>"
            ],
            "image/png": "[encoded data removed]"
          },
          "metadata": {}
        }
      ]
    },
    {
      "cell_type": "markdown",
      "source": [
        "As you can see, our algorithm has correctly classified all the samples. The decision boundary is shown in blue."
      ],
      "metadata": {
        "id": "XnMRBEKku2Kq"
      }
    },
    {
      "cell_type": "markdown",
      "source": [
        "# Things to try\n",
        "\n",
        "\n",
        "1.   Try this on a real dataset like the Sonar dataset or the Banknote Dataset and show the error plot.\n",
        "2.   In our case eta or the learning rate is equal to 1. Increase/decrease the learning rate to see how many iterations will be take to coverge. Does it even converge on a huge learning rate?\n",
        "3.   Also try to understand what is happening analytically, if you are increasing or decreasing the learning rate, how it can be helpful to you?\n",
        "    - [Understanding Learning Rates and How It Improves Performance in Deep Learning](https://towardsdatascience.com/understanding-learning-rates-and-how-it-improves-performance-in-deep-learning-d0d4059c1c10). Try to get the gist of the blog, would be more clearer in the later part of the course.\n",
        "5.   Take a toy dataset that is not linearly separable and run the perceptron algorithm on it. What happens? Note your observations. An example is given below.\n",
        "    - [Solving XOR with a single Perceptron](https://medium.com/@lucaspereira0612/solving-xor-with-a-single-perceptron-34539f395182).\n",
        "6.   Perceptron algorithm trains the model in the manner such that it **just** answers the question according to the training data but does not give the most optimal answer, in the manner that it does not maximizes the seperability from both the classes and thus have a chance of not doing well in validation or testing data. How will you try to solve this problem? Note your observation.\n",
        "    - [Perceptron vs SVM: a quick comparison](https://medium.com/@subashkharel/perceptron-vs-svm-a-quick-comparison-6b5d6b5d64f). Try to read more such Medim or TowardsDataScience articles for understanding more about Machine Learning.\n",
        "7.   Can this method or some extension on this be used for classifying more than two classes at once. Note your observations."
      ],
      "metadata": {
        "id": "LghXwwPesVSq"
      }
    },
    {
      "cell_type": "code",
      "source": [
        "from google.colab import drive\n",
        "drive.mount('/content/drive')"
      ],
      "metadata": {
        "id": "6F3Zh4riob1U",
        "outputId": "300f9558-0185-4bb2-edd6-6cde3e5219e0",
        "colab": {
          "base_uri": "https://localhost:8080/"
        }
      },
      "execution_count": 34,
      "outputs": [
        {
          "output_type": "stream",
          "name": "stdout",
          "text": [
            "Drive already mounted at /content/drive; to attempt to forcibly remount, call drive.mount(\"/content/drive\", force_remount=True).\n"
          ]
        }
      ]
    },
    {
      "cell_type": "code",
      "source": [
        "import pandas as pd\n",
        "import seaborn as sns"
      ],
      "metadata": {
        "id": "VR1Qr1kIof7Z"
      },
      "execution_count": 35,
      "outputs": []
    },
    {
      "cell_type": "code",
      "source": [
        "df = pd.read_csv(\"/content/drive/MyDrive/sonar.csv\")\n",
        "df"
      ],
      "metadata": {
        "id": "ViiHsx0yol3i",
        "outputId": "fcbacca7-0ff8-408b-b05b-26597bf5d674",
        "colab": {
          "base_uri": "https://localhost:8080/",
          "height": 468
        }
      },
      "execution_count": 36,
      "outputs": [
        {
          "output_type": "execute_result",
          "data": {
            "text/plain": [
              "     0.0200  0.0371  0.0428  0.0207  0.0954  0.0986  0.1539  0.1601  0.3109  \\\n",
              "0    0.0453  0.0523  0.0843  0.0689  0.1183  0.2583  0.2156  0.3481  0.3337   \n",
              "1    0.0262  0.0582  0.1099  0.1083  0.0974  0.2280  0.2431  0.3771  0.5598   \n",
              "2    0.0100  0.0171  0.0623  0.0205  0.0205  0.0368  0.1098  0.1276  0.0598   \n",
              "3    0.0762  0.0666  0.0481  0.0394  0.0590  0.0649  0.1209  0.2467  0.3564   \n",
              "4    0.0286  0.0453  0.0277  0.0174  0.0384  0.0990  0.1201  0.1833  0.2105   \n",
              "..      ...     ...     ...     ...     ...     ...     ...     ...     ...   \n",
              "202  0.0187  0.0346  0.0168  0.0177  0.0393  0.1630  0.2028  0.1694  0.2328   \n",
              "203  0.0323  0.0101  0.0298  0.0564  0.0760  0.0958  0.0990  0.1018  0.1030   \n",
              "204  0.0522  0.0437  0.0180  0.0292  0.0351  0.1171  0.1257  0.1178  0.1258   \n",
              "205  0.0303  0.0353  0.0490  0.0608  0.0167  0.1354  0.1465  0.1123  0.1945   \n",
              "206  0.0260  0.0363  0.0136  0.0272  0.0214  0.0338  0.0655  0.1400  0.1843   \n",
              "\n",
              "     0.2111  ...  0.0027  0.0065  0.0159  0.0072  0.0167  0.0180  0.0084  \\\n",
              "0    0.2872  ...  0.0084  0.0089  0.0048  0.0094  0.0191  0.0140  0.0049   \n",
              "1    0.6194  ...  0.0232  0.0166  0.0095  0.0180  0.0244  0.0316  0.0164   \n",
              "2    0.1264  ...  0.0121  0.0036  0.0150  0.0085  0.0073  0.0050  0.0044   \n",
              "3    0.4459  ...  0.0031  0.0054  0.0105  0.0110  0.0015  0.0072  0.0048   \n",
              "4    0.3039  ...  0.0045  0.0014  0.0038  0.0013  0.0089  0.0057  0.0027   \n",
              "..      ...  ...     ...     ...     ...     ...     ...     ...     ...   \n",
              "202  0.2684  ...  0.0116  0.0098  0.0199  0.0033  0.0101  0.0065  0.0115   \n",
              "203  0.2154  ...  0.0061  0.0093  0.0135  0.0063  0.0063  0.0034  0.0032   \n",
              "204  0.2529  ...  0.0160  0.0029  0.0051  0.0062  0.0089  0.0140  0.0138   \n",
              "205  0.2354  ...  0.0086  0.0046  0.0126  0.0036  0.0035  0.0034  0.0079   \n",
              "206  0.2354  ...  0.0146  0.0129  0.0047  0.0039  0.0061  0.0040  0.0036   \n",
              "\n",
              "     0.0090  0.0032  R  \n",
              "0    0.0052  0.0044  R  \n",
              "1    0.0095  0.0078  R  \n",
              "2    0.0040  0.0117  R  \n",
              "3    0.0107  0.0094  R  \n",
              "4    0.0051  0.0062  R  \n",
              "..      ...     ... ..  \n",
              "202  0.0193  0.0157  M  \n",
              "203  0.0062  0.0067  M  \n",
              "204  0.0077  0.0031  M  \n",
              "205  0.0036  0.0048  M  \n",
              "206  0.0061  0.0115  M  \n",
              "\n",
              "[207 rows x 61 columns]"
            ],
            "text/html": [
              "\n",
              "  <div id=\"df-a255df9b-b3c2-4abf-8f27-15a789ecb490\">\n",
              "    <div class=\"colab-df-container\">\n",
              "      <div>\n",
              "<style scoped>\n",
              "    .dataframe tbody tr th:only-of-type {\n",
              "        vertical-align: middle;\n",
              "    }\n",
              "\n",
              "    .dataframe tbody tr th {\n",
              "        vertical-align: top;\n",
              "    }\n",
              "\n",
              "    .dataframe thead th {\n",
              "        text-align: right;\n",
              "    }\n",
              "</style>\n",
              "<table border=\"1\" class=\"dataframe\">\n",
              "  <thead>\n",
              "    <tr style=\"text-align: right;\">\n",
              "      <th></th>\n",
              "      <th>0.0200</th>\n",
              "      <th>0.0371</th>\n",
              "      <th>0.0428</th>\n",
              "      <th>0.0207</th>\n",
              "      <th>0.0954</th>\n",
              "      <th>0.0986</th>\n",
              "      <th>0.1539</th>\n",
              "      <th>0.1601</th>\n",
              "      <th>0.3109</th>\n",
              "      <th>0.2111</th>\n",
              "      <th>...</th>\n",
              "      <th>0.0027</th>\n",
              "      <th>0.0065</th>\n",
              "      <th>0.0159</th>\n",
              "      <th>0.0072</th>\n",
              "      <th>0.0167</th>\n",
              "      <th>0.0180</th>\n",
              "      <th>0.0084</th>\n",
              "      <th>0.0090</th>\n",
              "      <th>0.0032</th>\n",
              "      <th>R</th>\n",
              "    </tr>\n",
              "  </thead>\n",
              "  <tbody>\n",
              "    <tr>\n",
              "      <th>0</th>\n",
              "      <td>0.0453</td>\n",
              "      <td>0.0523</td>\n",
              "      <td>0.0843</td>\n",
              "      <td>0.0689</td>\n",
              "      <td>0.1183</td>\n",
              "      <td>0.2583</td>\n",
              "      <td>0.2156</td>\n",
              "      <td>0.3481</td>\n",
              "      <td>0.3337</td>\n",
              "      <td>0.2872</td>\n",
              "      <td>...</td>\n",
              "      <td>0.0084</td>\n",
              "      <td>0.0089</td>\n",
              "      <td>0.0048</td>\n",
              "      <td>0.0094</td>\n",
              "      <td>0.0191</td>\n",
              "      <td>0.0140</td>\n",
              "      <td>0.0049</td>\n",
              "      <td>0.0052</td>\n",
              "      <td>0.0044</td>\n",
              "      <td>R</td>\n",
              "    </tr>\n",
              "    <tr>\n",
              "      <th>1</th>\n",
              "      <td>0.0262</td>\n",
              "      <td>0.0582</td>\n",
              "      <td>0.1099</td>\n",
              "      <td>0.1083</td>\n",
              "      <td>0.0974</td>\n",
              "      <td>0.2280</td>\n",
              "      <td>0.2431</td>\n",
              "      <td>0.3771</td>\n",
              "      <td>0.5598</td>\n",
              "      <td>0.6194</td>\n",
              "      <td>...</td>\n",
              "      <td>0.0232</td>\n",
              "      <td>0.0166</td>\n",
              "      <td>0.0095</td>\n",
              "      <td>0.0180</td>\n",
              "      <td>0.0244</td>\n",
              "      <td>0.0316</td>\n",
              "      <td>0.0164</td>\n",
              "      <td>0.0095</td>\n",
              "      <td>0.0078</td>\n",
              "      <td>R</td>\n",
              "    </tr>\n",
              "    <tr>\n",
              "      <th>2</th>\n",
              "      <td>0.0100</td>\n",
              "      <td>0.0171</td>\n",
              "      <td>0.0623</td>\n",
              "      <td>0.0205</td>\n",
              "      <td>0.0205</td>\n",
              "      <td>0.0368</td>\n",
              "      <td>0.1098</td>\n",
              "      <td>0.1276</td>\n",
              "      <td>0.0598</td>\n",
              "      <td>0.1264</td>\n",
              "      <td>...</td>\n",
              "      <td>0.0121</td>\n",
              "      <td>0.0036</td>\n",
              "      <td>0.0150</td>\n",
              "      <td>0.0085</td>\n",
              "      <td>0.0073</td>\n",
              "      <td>0.0050</td>\n",
              "      <td>0.0044</td>\n",
              "      <td>0.0040</td>\n",
              "      <td>0.0117</td>\n",
              "      <td>R</td>\n",
              "    </tr>\n",
              "    <tr>\n",
              "      <th>3</th>\n",
              "      <td>0.0762</td>\n",
              "      <td>0.0666</td>\n",
              "      <td>0.0481</td>\n",
              "      <td>0.0394</td>\n",
              "      <td>0.0590</td>\n",
              "      <td>0.0649</td>\n",
              "      <td>0.1209</td>\n",
              "      <td>0.2467</td>\n",
              "      <td>0.3564</td>\n",
              "      <td>0.4459</td>\n",
              "      <td>...</td>\n",
              "      <td>0.0031</td>\n",
              "      <td>0.0054</td>\n",
              "      <td>0.0105</td>\n",
              "      <td>0.0110</td>\n",
              "      <td>0.0015</td>\n",
              "      <td>0.0072</td>\n",
              "      <td>0.0048</td>\n",
              "      <td>0.0107</td>\n",
              "      <td>0.0094</td>\n",
              "      <td>R</td>\n",
              "    </tr>\n",
              "    <tr>\n",
              "      <th>4</th>\n",
              "      <td>0.0286</td>\n",
              "      <td>0.0453</td>\n",
              "      <td>0.0277</td>\n",
              "      <td>0.0174</td>\n",
              "      <td>0.0384</td>\n",
              "      <td>0.0990</td>\n",
              "      <td>0.1201</td>\n",
              "      <td>0.1833</td>\n",
              "      <td>0.2105</td>\n",
              "      <td>0.3039</td>\n",
              "      <td>...</td>\n",
              "      <td>0.0045</td>\n",
              "      <td>0.0014</td>\n",
              "      <td>0.0038</td>\n",
              "      <td>0.0013</td>\n",
              "      <td>0.0089</td>\n",
              "      <td>0.0057</td>\n",
              "      <td>0.0027</td>\n",
              "      <td>0.0051</td>\n",
              "      <td>0.0062</td>\n",
              "      <td>R</td>\n",
              "    </tr>\n",
              "    <tr>\n",
              "      <th>...</th>\n",
              "      <td>...</td>\n",
              "      <td>...</td>\n",
              "      <td>...</td>\n",
              "      <td>...</td>\n",
              "      <td>...</td>\n",
              "      <td>...</td>\n",
              "      <td>...</td>\n",
              "      <td>...</td>\n",
              "      <td>...</td>\n",
              "      <td>...</td>\n",
              "      <td>...</td>\n",
              "      <td>...</td>\n",
              "      <td>...</td>\n",
              "      <td>...</td>\n",
              "      <td>...</td>\n",
              "      <td>...</td>\n",
              "      <td>...</td>\n",
              "      <td>...</td>\n",
              "      <td>...</td>\n",
              "      <td>...</td>\n",
              "      <td>...</td>\n",
              "    </tr>\n",
              "    <tr>\n",
              "      <th>202</th>\n",
              "      <td>0.0187</td>\n",
              "      <td>0.0346</td>\n",
              "      <td>0.0168</td>\n",
              "      <td>0.0177</td>\n",
              "      <td>0.0393</td>\n",
              "      <td>0.1630</td>\n",
              "      <td>0.2028</td>\n",
              "      <td>0.1694</td>\n",
              "      <td>0.2328</td>\n",
              "      <td>0.2684</td>\n",
              "      <td>...</td>\n",
              "      <td>0.0116</td>\n",
              "      <td>0.0098</td>\n",
              "      <td>0.0199</td>\n",
              "      <td>0.0033</td>\n",
              "      <td>0.0101</td>\n",
              "      <td>0.0065</td>\n",
              "      <td>0.0115</td>\n",
              "      <td>0.0193</td>\n",
              "      <td>0.0157</td>\n",
              "      <td>M</td>\n",
              "    </tr>\n",
              "    <tr>\n",
              "      <th>203</th>\n",
              "      <td>0.0323</td>\n",
              "      <td>0.0101</td>\n",
              "      <td>0.0298</td>\n",
              "      <td>0.0564</td>\n",
              "      <td>0.0760</td>\n",
              "      <td>0.0958</td>\n",
              "      <td>0.0990</td>\n",
              "      <td>0.1018</td>\n",
              "      <td>0.1030</td>\n",
              "      <td>0.2154</td>\n",
              "      <td>...</td>\n",
              "      <td>0.0061</td>\n",
              "      <td>0.0093</td>\n",
              "      <td>0.0135</td>\n",
              "      <td>0.0063</td>\n",
              "      <td>0.0063</td>\n",
              "      <td>0.0034</td>\n",
              "      <td>0.0032</td>\n",
              "      <td>0.0062</td>\n",
              "      <td>0.0067</td>\n",
              "      <td>M</td>\n",
              "    </tr>\n",
              "    <tr>\n",
              "      <th>204</th>\n",
              "      <td>0.0522</td>\n",
              "      <td>0.0437</td>\n",
              "      <td>0.0180</td>\n",
              "      <td>0.0292</td>\n",
              "      <td>0.0351</td>\n",
              "      <td>0.1171</td>\n",
              "      <td>0.1257</td>\n",
              "      <td>0.1178</td>\n",
              "      <td>0.1258</td>\n",
              "      <td>0.2529</td>\n",
              "      <td>...</td>\n",
              "      <td>0.0160</td>\n",
              "      <td>0.0029</td>\n",
              "      <td>0.0051</td>\n",
              "      <td>0.0062</td>\n",
              "      <td>0.0089</td>\n",
              "      <td>0.0140</td>\n",
              "      <td>0.0138</td>\n",
              "      <td>0.0077</td>\n",
              "      <td>0.0031</td>\n",
              "      <td>M</td>\n",
              "    </tr>\n",
              "    <tr>\n",
              "      <th>205</th>\n",
              "      <td>0.0303</td>\n",
              "      <td>0.0353</td>\n",
              "      <td>0.0490</td>\n",
              "      <td>0.0608</td>\n",
              "      <td>0.0167</td>\n",
              "      <td>0.1354</td>\n",
              "      <td>0.1465</td>\n",
              "      <td>0.1123</td>\n",
              "      <td>0.1945</td>\n",
              "      <td>0.2354</td>\n",
              "      <td>...</td>\n",
              "      <td>0.0086</td>\n",
              "      <td>0.0046</td>\n",
              "      <td>0.0126</td>\n",
              "      <td>0.0036</td>\n",
              "      <td>0.0035</td>\n",
              "      <td>0.0034</td>\n",
              "      <td>0.0079</td>\n",
              "      <td>0.0036</td>\n",
              "      <td>0.0048</td>\n",
              "      <td>M</td>\n",
              "    </tr>\n",
              "    <tr>\n",
              "      <th>206</th>\n",
              "      <td>0.0260</td>\n",
              "      <td>0.0363</td>\n",
              "      <td>0.0136</td>\n",
              "      <td>0.0272</td>\n",
              "      <td>0.0214</td>\n",
              "      <td>0.0338</td>\n",
              "      <td>0.0655</td>\n",
              "      <td>0.1400</td>\n",
              "      <td>0.1843</td>\n",
              "      <td>0.2354</td>\n",
              "      <td>...</td>\n",
              "      <td>0.0146</td>\n",
              "      <td>0.0129</td>\n",
              "      <td>0.0047</td>\n",
              "      <td>0.0039</td>\n",
              "      <td>0.0061</td>\n",
              "      <td>0.0040</td>\n",
              "      <td>0.0036</td>\n",
              "      <td>0.0061</td>\n",
              "      <td>0.0115</td>\n",
              "      <td>M</td>\n",
              "    </tr>\n",
              "  </tbody>\n",
              "</table>\n",
              "<p>207 rows × 61 columns</p>\n",
              "</div>\n",
              "      <button class=\"colab-df-convert\" onclick=\"convertToInteractive('df-a255df9b-b3c2-4abf-8f27-15a789ecb490')\"\n",
              "              title=\"Convert this dataframe to an interactive table.\"\n",
              "              style=\"display:none;\">\n",
              "        \n",
              "  <svg xmlns=\"http://www.w3.org/2000/svg\" height=\"24px\"viewBox=\"0 0 24 24\"\n",
              "       width=\"24px\">\n",
              "    <path d=\"M0 0h24v24H0V0z\" fill=\"none\"/>\n",
              "    <path d=\"M18.56 5.44l.94 2.06.94-2.06 2.06-.94-2.06-.94-.94-2.06-.94 2.06-2.06.94zm-11 1L8.5 8.5l.94-2.06 2.06-.94-2.06-.94L8.5 2.5l-.94 2.06-2.06.94zm10 10l.94 2.06.94-2.06 2.06-.94-2.06-.94-.94-2.06-.94 2.06-2.06.94z\"/><path d=\"M17.41 7.96l-1.37-1.37c-.4-.4-.92-.59-1.43-.59-.52 0-1.04.2-1.43.59L10.3 9.45l-7.72 7.72c-.78.78-.78 2.05 0 2.83L4 21.41c.39.39.9.59 1.41.59.51 0 1.02-.2 1.41-.59l7.78-7.78 2.81-2.81c.8-.78.8-2.07 0-2.86zM5.41 20L4 18.59l7.72-7.72 1.47 1.35L5.41 20z\"/>\n",
              "  </svg>\n",
              "      </button>\n",
              "      \n",
              "  <style>\n",
              "    .colab-df-container {\n",
              "      display:flex;\n",
              "      flex-wrap:wrap;\n",
              "      gap: 12px;\n",
              "    }\n",
              "\n",
              "    .colab-df-convert {\n",
              "      background-color: #E8F0FE;\n",
              "      border: none;\n",
              "      border-radius: 50%;\n",
              "      cursor: pointer;\n",
              "      display: none;\n",
              "      fill: #1967D2;\n",
              "      height: 32px;\n",
              "      padding: 0 0 0 0;\n",
              "      width: 32px;\n",
              "    }\n",
              "\n",
              "    .colab-df-convert:hover {\n",
              "      background-color: #E2EBFA;\n",
              "      box-shadow: 0px 1px 2px rgba(60, 64, 67, 0.3), 0px 1px 3px 1px rgba(60, 64, 67, 0.15);\n",
              "      fill: #174EA6;\n",
              "    }\n",
              "\n",
              "    [theme=dark] .colab-df-convert {\n",
              "      background-color: #3B4455;\n",
              "      fill: #D2E3FC;\n",
              "    }\n",
              "\n",
              "    [theme=dark] .colab-df-convert:hover {\n",
              "      background-color: #434B5C;\n",
              "      box-shadow: 0px 1px 3px 1px rgba(0, 0, 0, 0.15);\n",
              "      filter: drop-shadow(0px 1px 2px rgba(0, 0, 0, 0.3));\n",
              "      fill: #FFFFFF;\n",
              "    }\n",
              "  </style>\n",
              "\n",
              "      <script>\n",
              "        const buttonEl =\n",
              "          document.querySelector('#df-a255df9b-b3c2-4abf-8f27-15a789ecb490 button.colab-df-convert');\n",
              "        buttonEl.style.display =\n",
              "          google.colab.kernel.accessAllowed ? 'block' : 'none';\n",
              "\n",
              "        async function convertToInteractive(key) {\n",
              "          const element = document.querySelector('#df-a255df9b-b3c2-4abf-8f27-15a789ecb490');\n",
              "          const dataTable =\n",
              "            await google.colab.kernel.invokeFunction('convertToInteractive',\n",
              "                                                     [key], {});\n",
              "          if (!dataTable) return;\n",
              "\n",
              "          const docLinkHtml = 'Like what you see? Visit the ' +\n",
              "            '<a target=\"_blank\" href=https://colab.research.google.com/notebooks/data_table.ipynb>data table notebook</a>'\n",
              "            + ' to learn more about interactive tables.';\n",
              "          element.innerHTML = '';\n",
              "          dataTable['output_type'] = 'display_data';\n",
              "          await google.colab.output.renderOutput(dataTable, element);\n",
              "          const docLink = document.createElement('div');\n",
              "          docLink.innerHTML = docLinkHtml;\n",
              "          element.appendChild(docLink);\n",
              "        }\n",
              "      </script>\n",
              "    </div>\n",
              "  </div>\n",
              "  "
            ]
          },
          "metadata": {},
          "execution_count": 36
        }
      ]
    },
    {
      "cell_type": "markdown",
      "source": [
        "Setting learning rate to 0.1 and using the sonar dataset\n",
        "I am going to use the SGD Classifier from sklearn\n"
      ],
      "metadata": {
        "id": "-ljLiMP6pJ-D"
      }
    },
    {
      "cell_type": "code",
      "source": [
        "from sklearn.linear_model import SGDClassifier\n",
        "from sklearn.preprocessing import StandardScaler"
      ],
      "metadata": {
        "id": "I_i-MbjZq0Zg"
      },
      "execution_count": 46,
      "outputs": []
    },
    {
      "cell_type": "code",
      "source": [
        "ss = StandardScaler()\n",
        "X = ss.fit_transform(df.drop(\"R\",axis=1))"
      ],
      "metadata": {
        "id": "5YXmJaBttD2Y"
      },
      "execution_count": 71,
      "outputs": []
    },
    {
      "cell_type": "code",
      "source": [
        "lst = [2,5,0.1,0.01,0.5,0.05]"
      ],
      "metadata": {
        "id": "WBFq6ggzsTbf"
      },
      "execution_count": 62,
      "outputs": []
    },
    {
      "cell_type": "code",
      "source": [
        "def fun(lst):\n",
        "    lst_hist = list()\n",
        "    for i in lst:\n",
        "        classifier = SGDClassifier(learning_rate=\"constant\",eta0=i,validation_fraction=0.1,verbose=1,loss=\"perceptron\")\n",
        "        print(\"For leaning rate {}\".format(i))\n",
        "        print()\n",
        "        history = classifier.fit(X,df[\"R\"])\n",
        "        lst_hist.append(history)\n",
        "    return lst_hist\n",
        "\n"
      ],
      "metadata": {
        "id": "54af8VMesEjK"
      },
      "execution_count": 72,
      "outputs": []
    },
    {
      "cell_type": "code",
      "source": [
        "loss = fun(lst)"
      ],
      "metadata": {
        "id": "ZRKHfmiXu14N",
        "outputId": "10b4c815-f65c-428c-9d79-80718cdf5ba8",
        "colab": {
          "base_uri": "https://localhost:8080/"
        }
      },
      "execution_count": 73,
      "outputs": [
        {
          "output_type": "stream",
          "name": "stdout",
          "text": [
            "For leaning rate 2\n",
            "\n",
            "-- Epoch 1\n",
            "Norm: 58.64, NNZs: 60, Bias: -24.000000, T: 207, Avg. loss: 13.095027\n",
            "Total training time: 0.00 seconds.\n",
            "-- Epoch 2\n",
            "Norm: 71.22, NNZs: 60, Bias: -20.000000, T: 414, Avg. loss: 10.234469\n",
            "Total training time: 0.00 seconds.\n",
            "-- Epoch 3\n",
            "Norm: 86.86, NNZs: 60, Bias: -12.000000, T: 621, Avg. loss: 8.998350\n",
            "Total training time: 0.00 seconds.\n",
            "-- Epoch 4\n",
            "Norm: 95.74, NNZs: 60, Bias: -16.000000, T: 828, Avg. loss: 8.511711\n",
            "Total training time: 0.01 seconds.\n",
            "-- Epoch 5\n",
            "Norm: 98.16, NNZs: 60, Bias: -20.000000, T: 1035, Avg. loss: 10.379520\n",
            "Total training time: 0.01 seconds.\n",
            "-- Epoch 6\n",
            "Norm: 102.96, NNZs: 60, Bias: -20.000000, T: 1242, Avg. loss: 7.292343\n",
            "Total training time: 0.01 seconds.\n",
            "-- Epoch 7\n",
            "Norm: 110.06, NNZs: 60, Bias: -20.000000, T: 1449, Avg. loss: 9.563392\n",
            "Total training time: 0.01 seconds.\n",
            "-- Epoch 8\n",
            "Norm: 109.54, NNZs: 60, Bias: -20.000000, T: 1656, Avg. loss: 8.174440\n",
            "Total training time: 0.01 seconds.\n",
            "-- Epoch 9\n",
            "Norm: 113.30, NNZs: 60, Bias: -22.000000, T: 1863, Avg. loss: 8.559371\n",
            "Total training time: 0.01 seconds.\n",
            "-- Epoch 10\n",
            "Norm: 122.19, NNZs: 60, Bias: -22.000000, T: 2070, Avg. loss: 8.268824\n",
            "Total training time: 0.01 seconds.\n",
            "-- Epoch 11\n",
            "Norm: 129.20, NNZs: 60, Bias: -20.000000, T: 2277, Avg. loss: 8.145865\n",
            "Total training time: 0.02 seconds.\n",
            "Convergence after 11 epochs took 0.02 seconds\n",
            "For leaning rate 5\n",
            "\n",
            "-- Epoch 1\n",
            "Norm: 149.33, NNZs: 60, Bias: -20.000000, T: 207, Avg. loss: 29.380577\n",
            "Total training time: 0.00 seconds.\n",
            "-- Epoch 2\n",
            "Norm: 193.68, NNZs: 60, Bias: -70.000000, T: 414, Avg. loss: 26.616429\n",
            "Total training time: 0.00 seconds.\n",
            "-- Epoch 3\n",
            "Norm: 211.43, NNZs: 60, Bias: -35.000000, T: 621, Avg. loss: 24.733758\n",
            "Total training time: 0.00 seconds.\n",
            "-- Epoch 4\n",
            "Norm: 227.27, NNZs: 60, Bias: -35.000000, T: 828, Avg. loss: 23.371476\n",
            "Total training time: 0.00 seconds.\n",
            "-- Epoch 5\n",
            "Norm: 230.30, NNZs: 60, Bias: -80.000000, T: 1035, Avg. loss: 22.353364\n",
            "Total training time: 0.01 seconds.\n",
            "-- Epoch 6\n",
            "Norm: 242.55, NNZs: 60, Bias: -65.000000, T: 1242, Avg. loss: 17.923304\n",
            "Total training time: 0.01 seconds.\n",
            "-- Epoch 7\n",
            "Norm: 250.60, NNZs: 60, Bias: -50.000000, T: 1449, Avg. loss: 23.395525\n",
            "Total training time: 0.01 seconds.\n",
            "-- Epoch 8\n",
            "Norm: 256.17, NNZs: 60, Bias: -40.000000, T: 1656, Avg. loss: 16.851212\n",
            "Total training time: 0.01 seconds.\n",
            "-- Epoch 9\n",
            "Norm: 271.92, NNZs: 60, Bias: -60.000000, T: 1863, Avg. loss: 23.190929\n",
            "Total training time: 0.01 seconds.\n",
            "-- Epoch 10\n",
            "Norm: 269.85, NNZs: 60, Bias: -50.000000, T: 2070, Avg. loss: 24.540733\n",
            "Total training time: 0.01 seconds.\n",
            "-- Epoch 11\n",
            "Norm: 260.00, NNZs: 60, Bias: -80.000000, T: 2277, Avg. loss: 24.467936\n",
            "Total training time: 0.02 seconds.\n",
            "-- Epoch 12\n",
            "Norm: 258.14, NNZs: 60, Bias: -35.000000, T: 2484, Avg. loss: 20.462350\n",
            "Total training time: 0.02 seconds.\n",
            "-- Epoch 13\n",
            "Norm: 268.39, NNZs: 60, Bias: -60.000000, T: 2691, Avg. loss: 22.262820\n",
            "Total training time: 0.02 seconds.\n",
            "Convergence after 13 epochs took 0.02 seconds\n",
            "For leaning rate 0.1\n",
            "\n",
            "-- Epoch 1\n",
            "Norm: 3.28, NNZs: 60, Bias: -0.300000, T: 207, Avg. loss: 0.677106\n",
            "Total training time: 0.00 seconds.\n",
            "-- Epoch 2\n",
            "Norm: 4.12, NNZs: 60, Bias: -1.000000, T: 414, Avg. loss: 0.555746\n",
            "Total training time: 0.00 seconds.\n",
            "-- Epoch 3\n",
            "Norm: 4.74, NNZs: 60, Bias: -1.100000, T: 621, Avg. loss: 0.447566\n",
            "Total training time: 0.00 seconds.\n",
            "-- Epoch 4\n",
            "Norm: 5.06, NNZs: 60, Bias: -1.000000, T: 828, Avg. loss: 0.521749\n",
            "Total training time: 0.00 seconds.\n",
            "-- Epoch 5\n",
            "Norm: 5.42, NNZs: 60, Bias: -0.700000, T: 1035, Avg. loss: 0.424537\n",
            "Total training time: 0.01 seconds.\n",
            "-- Epoch 6\n",
            "Norm: 5.95, NNZs: 60, Bias: -1.200000, T: 1242, Avg. loss: 0.516369\n",
            "Total training time: 0.01 seconds.\n",
            "-- Epoch 7\n",
            "Norm: 6.31, NNZs: 60, Bias: -1.000000, T: 1449, Avg. loss: 0.405162\n",
            "Total training time: 0.01 seconds.\n",
            "-- Epoch 8\n",
            "Norm: 6.51, NNZs: 60, Bias: -1.000000, T: 1656, Avg. loss: 0.412587\n",
            "Total training time: 0.01 seconds.\n",
            "-- Epoch 9\n",
            "Norm: 6.88, NNZs: 60, Bias: -0.800000, T: 1863, Avg. loss: 0.387974\n",
            "Total training time: 0.01 seconds.\n",
            "-- Epoch 10\n",
            "Norm: 7.11, NNZs: 60, Bias: -1.300000, T: 2070, Avg. loss: 0.378932\n",
            "Total training time: 0.01 seconds.\n",
            "-- Epoch 11\n",
            "Norm: 7.29, NNZs: 60, Bias: -1.300000, T: 2277, Avg. loss: 0.445742\n",
            "Total training time: 0.02 seconds.\n",
            "-- Epoch 12\n",
            "Norm: 7.41, NNZs: 60, Bias: -1.700000, T: 2484, Avg. loss: 0.366748\n",
            "Total training time: 0.02 seconds.\n",
            "-- Epoch 13\n",
            "Norm: 7.95, NNZs: 60, Bias: -1.000000, T: 2691, Avg. loss: 0.240402\n",
            "Total training time: 0.02 seconds.\n",
            "-- Epoch 14\n",
            "Norm: 8.22, NNZs: 60, Bias: -1.300000, T: 2898, Avg. loss: 0.425762\n",
            "Total training time: 0.02 seconds.\n",
            "-- Epoch 15\n",
            "Norm: 8.58, NNZs: 60, Bias: -1.500000, T: 3105, Avg. loss: 0.273619\n",
            "Total training time: 0.02 seconds.\n",
            "-- Epoch 16\n",
            "Norm: 8.78, NNZs: 60, Bias: -1.000000, T: 3312, Avg. loss: 0.338000\n",
            "Total training time: 0.02 seconds.\n",
            "-- Epoch 17\n",
            "Norm: 8.88, NNZs: 60, Bias: -1.300000, T: 3519, Avg. loss: 0.427825\n",
            "Total training time: 0.02 seconds.\n",
            "-- Epoch 18\n",
            "Norm: 9.13, NNZs: 60, Bias: -1.200000, T: 3726, Avg. loss: 0.320519\n",
            "Total training time: 0.03 seconds.\n",
            "Convergence after 18 epochs took 0.03 seconds\n",
            "For leaning rate 0.01\n",
            "\n",
            "-- Epoch 1\n",
            "Norm: 0.34, NNZs: 60, Bias: -0.080000, T: 207, Avg. loss: 0.065112\n",
            "Total training time: 0.00 seconds.\n",
            "-- Epoch 2\n",
            "Norm: 0.41, NNZs: 60, Bias: -0.130000, T: 414, Avg. loss: 0.051115\n",
            "Total training time: 0.00 seconds.\n",
            "-- Epoch 3\n",
            "Norm: 0.48, NNZs: 60, Bias: -0.060000, T: 621, Avg. loss: 0.054464\n",
            "Total training time: 0.00 seconds.\n",
            "-- Epoch 4\n",
            "Norm: 0.52, NNZs: 60, Bias: -0.110000, T: 828, Avg. loss: 0.051269\n",
            "Total training time: 0.00 seconds.\n",
            "-- Epoch 5\n",
            "Norm: 0.54, NNZs: 60, Bias: -0.110000, T: 1035, Avg. loss: 0.041862\n",
            "Total training time: 0.01 seconds.\n",
            "-- Epoch 6\n",
            "Norm: 0.60, NNZs: 60, Bias: -0.130000, T: 1242, Avg. loss: 0.042291\n",
            "Total training time: 0.01 seconds.\n",
            "-- Epoch 7\n",
            "Norm: 0.65, NNZs: 60, Bias: -0.160000, T: 1449, Avg. loss: 0.045592\n",
            "Total training time: 0.01 seconds.\n",
            "-- Epoch 8\n",
            "Norm: 0.69, NNZs: 60, Bias: -0.120000, T: 1656, Avg. loss: 0.039194\n",
            "Total training time: 0.01 seconds.\n",
            "-- Epoch 9\n",
            "Norm: 0.73, NNZs: 60, Bias: -0.160000, T: 1863, Avg. loss: 0.034542\n",
            "Total training time: 0.01 seconds.\n",
            "-- Epoch 10\n",
            "Norm: 0.76, NNZs: 60, Bias: -0.140000, T: 2070, Avg. loss: 0.039534\n",
            "Total training time: 0.01 seconds.\n",
            "-- Epoch 11\n",
            "Norm: 0.80, NNZs: 60, Bias: -0.120000, T: 2277, Avg. loss: 0.040970\n",
            "Total training time: 0.02 seconds.\n",
            "-- Epoch 12\n",
            "Norm: 0.83, NNZs: 60, Bias: -0.170000, T: 2484, Avg. loss: 0.039294\n",
            "Total training time: 0.02 seconds.\n",
            "-- Epoch 13\n",
            "Norm: 0.86, NNZs: 60, Bias: -0.160000, T: 2691, Avg. loss: 0.045092\n",
            "Total training time: 0.02 seconds.\n",
            "-- Epoch 14\n",
            "Norm: 0.87, NNZs: 60, Bias: -0.150000, T: 2898, Avg. loss: 0.035211\n",
            "Total training time: 0.02 seconds.\n",
            "Convergence after 14 epochs took 0.02 seconds\n",
            "For leaning rate 0.5\n",
            "\n",
            "-- Epoch 1\n",
            "Norm: 14.48, NNZs: 60, Bias: -5.000000, T: 207, Avg. loss: 2.582543\n",
            "Total training time: 0.00 seconds.\n",
            "-- Epoch 2\n",
            "Norm: 18.46, NNZs: 60, Bias: -3.500000, T: 414, Avg. loss: 2.725900\n",
            "Total training time: 0.00 seconds.\n",
            "-- Epoch 3\n",
            "Norm: 22.53, NNZs: 60, Bias: -3.500000, T: 621, Avg. loss: 2.647309\n",
            "Total training time: 0.00 seconds.\n",
            "-- Epoch 4\n",
            "Norm: 26.02, NNZs: 60, Bias: -6.500000, T: 828, Avg. loss: 2.838692\n",
            "Total training time: 0.00 seconds.\n",
            "-- Epoch 5\n",
            "Norm: 28.13, NNZs: 60, Bias: -7.000000, T: 1035, Avg. loss: 2.021329\n",
            "Total training time: 0.01 seconds.\n",
            "-- Epoch 6\n",
            "Norm: 31.70, NNZs: 60, Bias: -5.000000, T: 1242, Avg. loss: 1.880684\n",
            "Total training time: 0.01 seconds.\n",
            "-- Epoch 7\n",
            "Norm: 32.52, NNZs: 60, Bias: -6.000000, T: 1449, Avg. loss: 2.149829\n",
            "Total training time: 0.01 seconds.\n",
            "-- Epoch 8\n",
            "Norm: 33.01, NNZs: 60, Bias: -7.500000, T: 1656, Avg. loss: 2.631170\n",
            "Total training time: 0.01 seconds.\n",
            "-- Epoch 9\n",
            "Norm: 32.85, NNZs: 60, Bias: -7.500000, T: 1863, Avg. loss: 1.972937\n",
            "Total training time: 0.01 seconds.\n",
            "-- Epoch 10\n",
            "Norm: 35.59, NNZs: 60, Bias: -8.000000, T: 2070, Avg. loss: 1.848882\n",
            "Total training time: 0.01 seconds.\n",
            "-- Epoch 11\n",
            "Norm: 35.80, NNZs: 60, Bias: -7.500000, T: 2277, Avg. loss: 2.070629\n",
            "Total training time: 0.01 seconds.\n",
            "-- Epoch 12\n",
            "Norm: 36.90, NNZs: 60, Bias: -5.500000, T: 2484, Avg. loss: 1.945142\n",
            "Total training time: 0.01 seconds.\n",
            "-- Epoch 13\n",
            "Norm: 37.37, NNZs: 60, Bias: -5.000000, T: 2691, Avg. loss: 1.506535\n",
            "Total training time: 0.02 seconds.\n",
            "-- Epoch 14\n",
            "Norm: 39.10, NNZs: 60, Bias: -7.000000, T: 2898, Avg. loss: 2.113477\n",
            "Total training time: 0.02 seconds.\n",
            "-- Epoch 15\n",
            "Norm: 40.44, NNZs: 60, Bias: -4.000000, T: 3105, Avg. loss: 1.717363\n",
            "Total training time: 0.02 seconds.\n",
            "-- Epoch 16\n",
            "Norm: 41.31, NNZs: 60, Bias: -6.500000, T: 3312, Avg. loss: 1.716414\n",
            "Total training time: 0.02 seconds.\n",
            "-- Epoch 17\n",
            "Norm: 42.81, NNZs: 60, Bias: -6.500000, T: 3519, Avg. loss: 2.441321\n",
            "Total training time: 0.02 seconds.\n",
            "-- Epoch 18\n",
            "Norm: 44.08, NNZs: 60, Bias: -9.000000, T: 3726, Avg. loss: 1.727277\n",
            "Total training time: 0.02 seconds.\n",
            "Convergence after 18 epochs took 0.02 seconds\n",
            "For leaning rate 0.05\n",
            "\n",
            "-- Epoch 1\n",
            "Norm: 1.52, NNZs: 60, Bias: -0.050000, T: 207, Avg. loss: 0.364010\n",
            "Total training time: 0.00 seconds.\n",
            "-- Epoch 2\n",
            "Norm: 1.96, NNZs: 60, Bias: -0.400000, T: 414, Avg. loss: 0.357030\n",
            "Total training time: 0.00 seconds.\n",
            "-- Epoch 3\n",
            "Norm: 2.38, NNZs: 60, Bias: -0.250000, T: 621, Avg. loss: 0.227306\n",
            "Total training time: 0.00 seconds.\n",
            "-- Epoch 4\n",
            "Norm: 2.49, NNZs: 60, Bias: -0.700000, T: 828, Avg. loss: 0.245341\n",
            "Total training time: 0.00 seconds.\n",
            "-- Epoch 5\n",
            "Norm: 2.92, NNZs: 60, Bias: -0.700000, T: 1035, Avg. loss: 0.205956\n",
            "Total training time: 0.00 seconds.\n",
            "-- Epoch 6\n",
            "Norm: 3.15, NNZs: 60, Bias: -0.650000, T: 1242, Avg. loss: 0.224963\n",
            "Total training time: 0.00 seconds.\n",
            "-- Epoch 7\n",
            "Norm: 3.34, NNZs: 60, Bias: -0.650000, T: 1449, Avg. loss: 0.226623\n",
            "Total training time: 0.00 seconds.\n",
            "-- Epoch 8\n",
            "Norm: 3.49, NNZs: 60, Bias: -0.500000, T: 1656, Avg. loss: 0.221871\n",
            "Total training time: 0.00 seconds.\n",
            "-- Epoch 9\n",
            "Norm: 3.56, NNZs: 60, Bias: -0.600000, T: 1863, Avg. loss: 0.185913\n",
            "Total training time: 0.00 seconds.\n",
            "-- Epoch 10\n",
            "Norm: 3.72, NNZs: 60, Bias: -0.650000, T: 2070, Avg. loss: 0.207692\n",
            "Total training time: 0.00 seconds.\n",
            "-- Epoch 11\n",
            "Norm: 3.92, NNZs: 60, Bias: -0.550000, T: 2277, Avg. loss: 0.185866\n",
            "Total training time: 0.00 seconds.\n",
            "-- Epoch 12\n",
            "Norm: 4.04, NNZs: 60, Bias: -0.650000, T: 2484, Avg. loss: 0.209046\n",
            "Total training time: 0.00 seconds.\n",
            "-- Epoch 13\n",
            "Norm: 4.12, NNZs: 60, Bias: -0.750000, T: 2691, Avg. loss: 0.181330\n",
            "Total training time: 0.00 seconds.\n",
            "-- Epoch 14\n",
            "Norm: 4.25, NNZs: 60, Bias: -0.650000, T: 2898, Avg. loss: 0.170865\n",
            "Total training time: 0.00 seconds.\n",
            "-- Epoch 15\n",
            "Norm: 4.40, NNZs: 60, Bias: -0.700000, T: 3105, Avg. loss: 0.192022\n",
            "Total training time: 0.00 seconds.\n",
            "-- Epoch 16\n",
            "Norm: 4.50, NNZs: 60, Bias: -0.700000, T: 3312, Avg. loss: 0.153181\n",
            "Total training time: 0.00 seconds.\n",
            "-- Epoch 17\n",
            "Norm: 4.62, NNZs: 60, Bias: -0.950000, T: 3519, Avg. loss: 0.146539\n",
            "Total training time: 0.00 seconds.\n",
            "-- Epoch 18\n",
            "Norm: 4.77, NNZs: 60, Bias: -0.850000, T: 3726, Avg. loss: 0.180343\n",
            "Total training time: 0.00 seconds.\n",
            "-- Epoch 19\n",
            "Norm: 4.89, NNZs: 60, Bias: -0.800000, T: 3933, Avg. loss: 0.182282\n",
            "Total training time: 0.00 seconds.\n",
            "-- Epoch 20\n",
            "Norm: 5.01, NNZs: 60, Bias: -0.450000, T: 4140, Avg. loss: 0.181893\n",
            "Total training time: 0.00 seconds.\n",
            "-- Epoch 21\n",
            "Norm: 4.95, NNZs: 60, Bias: -0.800000, T: 4347, Avg. loss: 0.135966\n",
            "Total training time: 0.00 seconds.\n",
            "-- Epoch 22\n",
            "Norm: 4.99, NNZs: 60, Bias: -0.850000, T: 4554, Avg. loss: 0.161290\n",
            "Total training time: 0.00 seconds.\n",
            "-- Epoch 23\n",
            "Norm: 5.06, NNZs: 60, Bias: -0.950000, T: 4761, Avg. loss: 0.149059\n",
            "Total training time: 0.00 seconds.\n",
            "-- Epoch 24\n",
            "Norm: 5.18, NNZs: 60, Bias: -0.700000, T: 4968, Avg. loss: 0.168314\n",
            "Total training time: 0.00 seconds.\n",
            "-- Epoch 25\n",
            "Norm: 5.33, NNZs: 60, Bias: -0.600000, T: 5175, Avg. loss: 0.133107\n",
            "Total training time: 0.00 seconds.\n",
            "-- Epoch 26\n",
            "Norm: 5.47, NNZs: 60, Bias: -0.750000, T: 5382, Avg. loss: 0.153997\n",
            "Total training time: 0.00 seconds.\n",
            "-- Epoch 27\n",
            "Norm: 5.56, NNZs: 60, Bias: -0.950000, T: 5589, Avg. loss: 0.186165\n",
            "Total training time: 0.00 seconds.\n",
            "-- Epoch 28\n",
            "Norm: 5.70, NNZs: 60, Bias: -0.650000, T: 5796, Avg. loss: 0.170056\n",
            "Total training time: 0.00 seconds.\n",
            "-- Epoch 29\n",
            "Norm: 5.85, NNZs: 60, Bias: -0.800000, T: 6003, Avg. loss: 0.148490\n",
            "Total training time: 0.00 seconds.\n",
            "-- Epoch 30\n",
            "Norm: 5.96, NNZs: 60, Bias: -0.950000, T: 6210, Avg. loss: 0.152001\n",
            "Total training time: 0.00 seconds.\n",
            "Convergence after 30 epochs took 0.00 seconds\n"
          ]
        }
      ]
    },
    {
      "cell_type": "code",
      "source": [
        "loss"
      ],
      "metadata": {
        "id": "GTx6w7rjvuCE",
        "outputId": "3914ef54-b918-437a-e11e-2698205254b2",
        "colab": {
          "base_uri": "https://localhost:8080/"
        }
      },
      "execution_count": 70,
      "outputs": [
        {
          "output_type": "execute_result",
          "data": {
            "text/plain": [
              "[SGDClassifier(eta0=2, learning_rate='constant', verbose=1),\n",
              " SGDClassifier(eta0=5, learning_rate='constant', verbose=1),\n",
              " SGDClassifier(eta0=0.1, learning_rate='constant', verbose=1),\n",
              " SGDClassifier(eta0=0.01, learning_rate='constant', verbose=1),\n",
              " SGDClassifier(eta0=0.5, learning_rate='constant', verbose=1),\n",
              " SGDClassifier(eta0=0.05, learning_rate='constant', verbose=1)]"
            ]
          },
          "metadata": {},
          "execution_count": 70
        }
      ]
    },
    {
      "cell_type": "markdown",
      "source": [
        "If the training data is not Linearly Separable, the perceptron algorithm will eventually repeat the same set of weights and thereby enter an infinite loop."
      ],
      "metadata": {
        "id": "JjJYKtxZVqDP"
      }
    }
  ]
}